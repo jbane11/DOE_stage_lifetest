{
 "cells": [
  {
   "cell_type": "code",
   "execution_count": 3,
   "id": "b0ffaa4f",
   "metadata": {},
   "outputs": [
    {
     "name": "stdout",
     "output_type": "stream",
     "text": [
      "Using camera: puA1600-60um\n",
      "Image captured and saved as basler_capture.png\n",
      "Image captured and saved as basler_capture.png\n"
     ]
    }
   ],
   "source": [
    "# Grab image from a Basler pua1600 camera using pypylon\n",
    "try:\n",
    "    from pypylon import pylon\n",
    "except ImportError:\n",
    "    print(\"pypylon library not found. Please install it with 'pip install pypylon'.\")\n",
    "    raise\n",
    "\n",
    "# Create an instant camera object with the camera device found first\n",
    "camera = pylon.InstantCamera(pylon.TlFactory.GetInstance().CreateFirstDevice())\n",
    "\n",
    "# Print camera info\n",
    "print(\"Using camera:\", camera.GetDeviceInfo().GetModelName())\n",
    "\n",
    "# Start grabbing one image\n",
    "camera.StartGrabbingMax(1)\n",
    "converter = pylon.ImageFormatConverter()\n",
    "converter.OutputPixelFormat = pylon.PixelType_RGB8packed\n",
    "converter.OutputBitAlignment = pylon.OutputBitAlignment_MsbAligned\n",
    "\n",
    "while camera.IsGrabbing():\n",
    "    grabResult = camera.RetrieveResult(5000, pylon.TimeoutHandling_ThrowException)\n",
    "    if grabResult.GrabSucceeded():\n",
    "        # Access the image data\n",
    "        image = converter.Convert(grabResult)\n",
    "        img = image.GetArray()\n",
    "        from PIL import Image\n",
    "        img_pil = Image.fromarray(img)\n",
    "        img_pil.save(\"basler_capture.png\")\n",
    "        print(\"Image captured and saved as basler_capture.png\")\n",
    "    else:\n",
    "        print(\"Error: \", grabResult.ErrorCode, grabResult.ErrorDescription)\n",
    "    grabResult.Release()\n",
    "camera.Close()"
   ]
  },
  {
   "cell_type": "code",
   "execution_count": null,
   "id": "5bc526a9",
   "metadata": {},
   "outputs": [],
   "source": []
  }
 ],
 "metadata": {
  "kernelspec": {
   "display_name": "Python 3",
   "language": "python",
   "name": "python3"
  },
  "language_info": {
   "codemirror_mode": {
    "name": "ipython",
    "version": 3
   },
   "file_extension": ".py",
   "mimetype": "text/x-python",
   "name": "python",
   "nbconvert_exporter": "python",
   "pygments_lexer": "ipython3",
   "version": "3.13.7"
  }
 },
 "nbformat": 4,
 "nbformat_minor": 5
}
