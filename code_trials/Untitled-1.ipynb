{
 "cells": [
  {
   "cell_type": "code",
   "execution_count": 2,
   "id": "d3c2b8f0",
   "metadata": {},
   "outputs": [
    {
     "name": "stdout",
     "output_type": "stream",
     "text": [
      "Python 3.13.7 (tags/v3.13.7:bcee1c3, Aug 14 2025, 14:15:11) [MSC v.1944 64 bit (AMD64)]\n",
      "\n",
      "\n",
      "Executing File = C:\\Users\\Jason.Bane\\AppData\\Local\\Temp\\ipykernel_16004\\2856705919.py\n",
      "\n",
      "Executing Dir  = C:\\Users\\Jason.Bane\\AppData\\Local\\Temp\\ipykernel_16004\n",
      "\n"
     ]
    }
   ],
   "source": [
    "import sys\n",
    "import os\n",
    "import inspect\n",
    "# Import the .NET Common Language Runtime (CLR) to allow interaction with .NET\n",
    "import clr\n",
    "import numpy as np\n",
    "\n",
    "print (\"Python %s\\n\\n\" % (sys.version,))\n",
    "\n",
    "strCurrFile = os.path.abspath (inspect.stack()[0][1])\n",
    "print (\"Executing File = %s\\n\" % strCurrFile)\n",
    "# Initialize the DLL folder path to where the DLLs are located\n",
    "strPathDllFolder = os.path.dirname (strCurrFile)\n",
    "print (\"Executing Dir  = %s\\n\" % strPathDllFolder)"
   ]
  },
  {
   "cell_type": "code",
   "execution_count": null,
   "id": "2f58524a",
   "metadata": {},
   "outputs": [],
   "source": []
  }
 ],
 "metadata": {
  "kernelspec": {
   "display_name": "Python 3",
   "language": "python",
   "name": "python3"
  },
  "language_info": {
   "codemirror_mode": {
    "name": "ipython",
    "version": 3
   },
   "file_extension": ".py",
   "mimetype": "text/x-python",
   "name": "python",
   "nbconvert_exporter": "python",
   "pygments_lexer": "ipython3",
   "version": "3.13.7"
  }
 },
 "nbformat": 4,
 "nbformat_minor": 5
}
