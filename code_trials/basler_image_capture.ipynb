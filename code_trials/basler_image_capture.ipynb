{
 "cells": [
  {
   "cell_type": "code",
   "execution_count": 1,
   "id": "b0ffaa4f",
   "metadata": {},
   "outputs": [
    {
     "ename": "RuntimeException",
     "evalue": "No device is available or no device contains the provided device info properties. : RuntimeException thrown (file 'tlfactory.cpp', line 694)",
     "output_type": "error",
     "traceback": [
      "\u001b[31m---------------------------------------------------------------------------\u001b[39m",
      "\u001b[31mRuntimeException\u001b[39m                          Traceback (most recent call last)",
      "\u001b[36mCell\u001b[39m\u001b[36m \u001b[39m\u001b[32mIn[1]\u001b[39m\u001b[32m, line 9\u001b[39m\n\u001b[32m      6\u001b[39m     \u001b[38;5;28;01mraise\u001b[39;00m\n\u001b[32m      8\u001b[39m \u001b[38;5;66;03m# Create an instant camera object with the camera device found first\u001b[39;00m\n\u001b[32m----> \u001b[39m\u001b[32m9\u001b[39m camera = pylon.InstantCamera(\u001b[43mpylon\u001b[49m\u001b[43m.\u001b[49m\u001b[43mTlFactory\u001b[49m\u001b[43m.\u001b[49m\u001b[43mGetInstance\u001b[49m\u001b[43m(\u001b[49m\u001b[43m)\u001b[49m\u001b[43m.\u001b[49m\u001b[43mCreateFirstDevice\u001b[49m\u001b[43m(\u001b[49m\u001b[43m)\u001b[49m)\n\u001b[32m     11\u001b[39m \u001b[38;5;66;03m# Print camera info\u001b[39;00m\n\u001b[32m     12\u001b[39m \u001b[38;5;28mprint\u001b[39m(\u001b[33m\"\u001b[39m\u001b[33mUsing camera:\u001b[39m\u001b[33m\"\u001b[39m, camera.GetDeviceInfo().GetModelName())\n",
      "\u001b[36mFile \u001b[39m\u001b[32m~\\AppData\\Local\\Packages\\PythonSoftwareFoundation.Python.3.13_qbz5n2kfra8p0\\LocalCache\\local-packages\\Python313\\site-packages\\pypylon\\pylon.py:1740\u001b[39m, in \u001b[36mTlFactory.CreateFirstDevice\u001b[39m\u001b[34m(self, *args)\u001b[39m\n\u001b[32m   1732\u001b[39m \u001b[38;5;28;01mdef\u001b[39;00m\u001b[38;5;250m \u001b[39m\u001b[34mCreateFirstDevice\u001b[39m(\u001b[38;5;28mself\u001b[39m, *args):\n\u001b[32m   1733\u001b[39m \u001b[38;5;250m    \u001b[39m\u001b[33mr\u001b[39m\u001b[33;03m\"\"\"\u001b[39;00m\n\u001b[32m   1734\u001b[39m \n\u001b[32m   1735\u001b[39m \n\u001b[32m   (...)\u001b[39m\u001b[32m   1738\u001b[39m \n\u001b[32m   1739\u001b[39m \u001b[33;03m    \"\"\"\u001b[39;00m\n\u001b[32m-> \u001b[39m\u001b[32m1740\u001b[39m     \u001b[38;5;28;01mreturn\u001b[39;00m \u001b[43m_pylon\u001b[49m\u001b[43m.\u001b[49m\u001b[43mTlFactory_CreateFirstDevice\u001b[49m\u001b[43m(\u001b[49m\u001b[38;5;28;43mself\u001b[39;49m\u001b[43m,\u001b[49m\u001b[43m \u001b[49m\u001b[43m*\u001b[49m\u001b[43margs\u001b[49m\u001b[43m)\u001b[49m\n",
      "\u001b[31mRuntimeException\u001b[39m: No device is available or no device contains the provided device info properties. : RuntimeException thrown (file 'tlfactory.cpp', line 694)"
     ]
    }
   ],
   "source": [
    "# Grab image from a Basler pua1600 camera using pypylon\n",
    "try:\n",
    "    from pypylon import pylon\n",
    "except ImportError:\n",
    "    print(\"pypylon library not found. Please install it with 'pip install pypylon'.\")\n",
    "    raise\n",
    "\n",
    "# Create an instant camera object with the camera device found first\n",
    "camera = pylon.InstantCamera(pylon.TlFactory.GetInstance().CreateFirstDevice())\n",
    "\n",
    "# Print camera info\n",
    "print(\"Using camera:\", camera.GetDeviceInfo().GetModelName())\n",
    "\n",
    "# Start grabbing one image\n",
    "camera.StartGrabbingMax(1)\n",
    "converter = pylon.ImageFormatConverter()\n",
    "converter.OutputPixelFormat = pylon.PixelType_RGB8packed\n",
    "converter.OutputBitAlignment = pylon.OutputBitAlignment_MsbAligned\n",
    "\n",
    "while camera.IsGrabbing():\n",
    "    grabResult = camera.RetrieveResult(5000, pylon.TimeoutHandling_ThrowException)\n",
    "    if grabResult.GrabSucceeded():\n",
    "        # Access the image data\n",
    "        image = converter.Convert(grabResult)\n",
    "        img = image.GetArray()\n",
    "        from PIL import Image\n",
    "        img_pil = Image.fromarray(img)\n",
    "        img_pil.save(\"basler_capture.png\")\n",
    "        print(\"Image captured and saved as basler_capture.png\")\n",
    "    else:\n",
    "        print(\"Error: \", grabResult.ErrorCode, grabResult.ErrorDescription)\n",
    "    grabResult.Release()\n",
    "camera.Close()\n",
    "\n",
    "\n",
    "\n",
    "\n",
    "import sys\n",
    "sys.path.append('C:\\\\Users\\\\deotech\\\\Documents\\\\Bane\\\\DOE_stage_lifetest')\n",
    "import angle_extraction as aex\n",
    "\n",
    "aex.Analyze_Image(\"basler_capture.png\",plot_level=1,verbose_level=0)"
   ]
  },
  {
   "cell_type": "code",
   "execution_count": 2,
   "id": "f8cf0459",
   "metadata": {},
   "outputs": [
    {
     "ename": "RuntimeException",
     "evalue": "No device is available or no device contains the provided device info properties. : RuntimeException thrown (file 'tlfactory.cpp', line 694)",
     "output_type": "error",
     "traceback": [
      "\u001b[31m---------------------------------------------------------------------------\u001b[39m",
      "\u001b[31mRuntimeException\u001b[39m                          Traceback (most recent call last)",
      "\u001b[36mCell\u001b[39m\u001b[36m \u001b[39m\u001b[32mIn[2]\u001b[39m\u001b[32m, line 10\u001b[39m\n\u001b[32m      7\u001b[39m     \u001b[38;5;28;01mraise\u001b[39;00m\n\u001b[32m      9\u001b[39m \u001b[38;5;66;03m# Create an instant camera object with the camera device found first\u001b[39;00m\n\u001b[32m---> \u001b[39m\u001b[32m10\u001b[39m camera = pylon.InstantCamera(\u001b[43mpylon\u001b[49m\u001b[43m.\u001b[49m\u001b[43mTlFactory\u001b[49m\u001b[43m.\u001b[49m\u001b[43mGetInstance\u001b[49m\u001b[43m(\u001b[49m\u001b[43m)\u001b[49m\u001b[43m.\u001b[49m\u001b[43mCreateFirstDevice\u001b[49m\u001b[43m(\u001b[49m\u001b[43m)\u001b[49m)\n\u001b[32m     12\u001b[39m \u001b[38;5;66;03m# Print camera info\u001b[39;00m\n\u001b[32m     13\u001b[39m \u001b[38;5;28mprint\u001b[39m(\u001b[33m\"\u001b[39m\u001b[33mUsing camera:\u001b[39m\u001b[33m\"\u001b[39m, camera.GetDeviceInfo().GetModelName())\n",
      "\u001b[36mFile \u001b[39m\u001b[32m~\\AppData\\Local\\Packages\\PythonSoftwareFoundation.Python.3.13_qbz5n2kfra8p0\\LocalCache\\local-packages\\Python313\\site-packages\\pypylon\\pylon.py:1740\u001b[39m, in \u001b[36mTlFactory.CreateFirstDevice\u001b[39m\u001b[34m(self, *args)\u001b[39m\n\u001b[32m   1732\u001b[39m \u001b[38;5;28;01mdef\u001b[39;00m\u001b[38;5;250m \u001b[39m\u001b[34mCreateFirstDevice\u001b[39m(\u001b[38;5;28mself\u001b[39m, *args):\n\u001b[32m   1733\u001b[39m \u001b[38;5;250m    \u001b[39m\u001b[33mr\u001b[39m\u001b[33;03m\"\"\"\u001b[39;00m\n\u001b[32m   1734\u001b[39m \n\u001b[32m   1735\u001b[39m \n\u001b[32m   (...)\u001b[39m\u001b[32m   1738\u001b[39m \n\u001b[32m   1739\u001b[39m \u001b[33;03m    \"\"\"\u001b[39;00m\n\u001b[32m-> \u001b[39m\u001b[32m1740\u001b[39m     \u001b[38;5;28;01mreturn\u001b[39;00m \u001b[43m_pylon\u001b[49m\u001b[43m.\u001b[49m\u001b[43mTlFactory_CreateFirstDevice\u001b[49m\u001b[43m(\u001b[49m\u001b[38;5;28;43mself\u001b[39;49m\u001b[43m,\u001b[49m\u001b[43m \u001b[49m\u001b[43m*\u001b[49m\u001b[43margs\u001b[49m\u001b[43m)\u001b[49m\n",
      "\u001b[31mRuntimeException\u001b[39m: No device is available or no device contains the provided device info properties. : RuntimeException thrown (file 'tlfactory.cpp', line 694)"
     ]
    }
   ],
   "source": [
    "import time\n",
    "# Grab image from a Basler pua1600 camera using pypylon\n",
    "try:\n",
    "    from pypylon import pylon\n",
    "except ImportError:\n",
    "    print(\"pypylon library not found. Please install it with 'pip install pypylon'.\")\n",
    "    raise\n",
    "\n",
    "# Create an instant camera object with the camera device found first\n",
    "camera = pylon.InstantCamera(pylon.TlFactory.GetInstance().CreateFirstDevice())\n",
    "\n",
    "# Print camera info\n",
    "print(\"Using camera:\", camera.GetDeviceInfo().GetModelName())\n",
    "\n",
    "# Start grabbing one image\n",
    "camera.StartGrabbingMax(1)\n",
    "converter = pylon.ImageFormatConverter()\n",
    "converter.OutputPixelFormat = pylon.PixelType_RGB8packed\n",
    "converter.OutputBitAlignment = pylon.OutputBitAlignment_MsbAligned\n",
    "\n",
    "while camera.IsGrabbing():\n",
    "    grabResult = camera.RetrieveResult(5000, pylon.TimeoutHandling_ThrowException)\n",
    "    if grabResult.GrabSucceeded():\n",
    "        # Access the image data\n",
    "        image = converter.Convert(grabResult)\n",
    "        img = image.GetArray()\n",
    "        from PIL import Image\n",
    "        img_pil = Image.fromarray(img)\n",
    "        filename = \"basler_capture_\" + time.strftime(\"%Y%m%d-%H%M%S\") + \".png\"\n",
    "        img_pil.save(filename)\n",
    "        print(\"Image captured and saved as\", filename)\n",
    "    else:\n",
    "        print(\"Error: \", grabResult.ErrorCode, grabResult.ErrorDescription)\n",
    "    grabResult.Release()\n",
    "camera.Close()\n",
    "\n",
    "\n",
    "import sys\n",
    "sys.path.append('C:\\\\Users\\\\deotech\\\\Documents\\\\Bane\\\\DOE_stage_lifetest')\n",
    "import angle_extraction as aex\n",
    "\n",
    "aex.Analyze_Image(filename,plot_level=1,verbose_level=0)"
   ]
  },
  {
   "cell_type": "code",
   "execution_count": null,
   "id": "fc57a67a",
   "metadata": {},
   "outputs": [],
   "source": []
  }
 ],
 "metadata": {
  "kernelspec": {
   "display_name": "Python 3",
   "language": "python",
   "name": "python3"
  },
  "language_info": {
   "codemirror_mode": {
    "name": "ipython",
    "version": 3
   },
   "file_extension": ".py",
   "mimetype": "text/x-python",
   "name": "python",
   "nbconvert_exporter": "python",
   "pygments_lexer": "ipython3",
   "version": "3.13.8"
  }
 },
 "nbformat": 4,
 "nbformat_minor": 5
}
